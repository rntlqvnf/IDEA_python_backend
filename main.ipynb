{
 "cells": [
  {
   "cell_type": "code",
   "execution_count": 1,
   "metadata": {
    "tags": []
   },
   "outputs": [
    {
     "output_type": "stream",
     "name": "stderr",
     "text": [
      "Using TensorFlow backend.\n"
     ]
    }
   ],
   "source": [
    "import argparse\n",
    "from webcam_utils import realtime_emotions\n",
    "from prediction_utils import prediction_path\n",
    "from emotion_recommend import recommend_by_emotion\n",
    "import threading\n",
    "import logging\n",
    "import time\n",
    "\n",
    "from PIL import Image\n",
    "from PIL import ImageFont\n",
    "from PIL import ImageDraw \n"
   ]
  },
  {
   "cell_type": "code",
   "execution_count": 2,
   "metadata": {},
   "outputs": [],
   "source": [
    "def __get_logger():\n",
    "    __logger = logging.getLogger('logger')\n",
    "    formatter = logging.Formatter(\n",
    "        '%(levelname)s##%(asctime)s##%(message)s')\n",
    "    fileHandler = logging.FileHandler('./log.txt')\n",
    "    fileHandler.setFormatter(formatter)\n",
    "    __logger.addHandler(fileHandler)\n",
    "    __logger.setLevel(logging.DEBUG)\n",
    "\n",
    "    return __logger\n",
    "\n",
    "logger = __get_logger()"
   ]
  },
  {
   "cell_type": "code",
   "execution_count": 3,
   "metadata": {},
   "outputs": [],
   "source": [
    "# TODO: Socekt list (Need socket num to distinguish)\n",
    "\n",
    "class SocketList():\n",
    "    def __init__(self):\n",
    "        self.lock = threading.Lock()\n",
    "        self.socket_list = None\n",
    "    \n",
    "    def is_empty(self):\n",
    "        if self.socket_list is None:\n",
    "            return True\n",
    "        else:\n",
    "            return False\n",
    "\n",
    "    def send(self, data):\n",
    "        self.lock.acquire()\n",
    "        try:\n",
    "            self.socket_list.send(data)\n",
    "        finally:\n",
    "            self.lock.release()\n",
    "        \n",
    "    def add_socket(self, socket):\n",
    "        self.lock.acquire()\n",
    "        try:\n",
    "            self.socket_list = socket\n",
    "        finally:\n",
    "            self.lock.release()"
   ]
  },
  {
   "cell_type": "code",
   "execution_count": 4,
   "metadata": {},
   "outputs": [],
   "source": [
    "# for running realtime emotion detection\n",
    "import easydict\n",
    "\n",
    "def emotion_detection(img_str):\n",
    "    return prediction_path(img_str)\n",
    "    "
   ]
  },
  {
   "cell_type": "code",
   "execution_count": 5,
   "metadata": {
    "tags": []
   },
   "outputs": [],
   "source": [
    "from flask import Flask, request, jsonify\n",
    "\n",
    "def send_to_socket(data):\n",
    "    global socket_list\n",
    "    if not socket_list.is_empty():\n",
    "        logger.info('write to socket %s', data)\n",
    "        try:\n",
    "            socket_list.send(data.encode(\"utf-8\"))\n",
    "        except Exception as e:\n",
    "            logger.error(e)\n",
    "    else:\n",
    "        logger.info('No socket')\n",
    "\n",
    "def rest_api_work():\n",
    "    app = Flask(__name__)\n",
    "    host = 'localhost'\n",
    "    port = 5000\n",
    "\n",
    "    @app.route('/emotion', methods = ['POST'])\n",
    "    def analysisEmotion():\n",
    "        logger.info('Emotion Request')\n",
    "        try:\n",
    "            imageData = request.get_json()['image']\n",
    "            emotion_request_json = jsonify({'result': emotion_detection(imageData)})\n",
    "            send_to_socket(emotion_request_json.get_data(as_text=True))\n",
    "            return emotion_request_json\n",
    "        except Exception as e:\n",
    "            logger.error(e)\n",
    "\n",
    "    @app.route('/recommendations', methods = ['POST'])\n",
    "    def analysisEmotionAndReturnRecommends():\n",
    "        logger.info('Recommendations Request')\n",
    "        try:\n",
    "            imageData = request.get_json()['image']\n",
    "            path = request.get_json()['path']\n",
    "            emotion_request_json = jsonify({'result': 'test'})\n",
    "            send_to_socket(emotion_request_json.get_data(as_text=True))\n",
    "            return emotion_request_json\n",
    "        except Exception as e:\n",
    "            logger.error(e)\n",
    "\n",
    "    @app.route('/wakeup', methods = ['GET'])\n",
    "    def wakeup():\n",
    "        logger.info('Wakeup Request')\n",
    "        try:\n",
    "            wakeup_request_json = jsonify({'status': 'open'}) \n",
    "            send_to_socket(wakeup_request_json.get_data(as_text=True))\n",
    "            return wakeup_request_json\n",
    "        except Exception as e:\n",
    "            logger.error(e)\n",
    "\n",
    "    app.run(host=host, port=port)"
   ]
  },
  {
   "cell_type": "code",
   "execution_count": 6,
   "metadata": {},
   "outputs": [],
   "source": [
    "import socketserver\n",
    "import socket\n",
    "\n",
    "class MyTcpHandler(socketserver.BaseRequestHandler):\n",
    "    def handle(self):\n",
    "        try:\n",
    "            logger.info('New socket added') \n",
    "            global socket_list\n",
    "            socket_list.add_socket(self.request)\n",
    "\n",
    "            while True:\n",
    "                time.sleep(1)\n",
    "            return\n",
    "        except Exception as e:\n",
    "            logger.error(e)"
   ]
  },
  {
   "cell_type": "code",
   "execution_count": 7,
   "metadata": {},
   "outputs": [],
   "source": [
    "def socket_work():\n",
    "    HOST = 'localhost'\n",
    "    PORT = 6000\n",
    "\n",
    "    def runServer():\n",
    "        try:\n",
    "            logger.info('Server started')\n",
    "            server = socketserver.TCPServer((HOST,PORT),MyTcpHandler)\n",
    "            server.serve_forever()\n",
    "        except KeyboardInterrupt:\n",
    "            logger.info('Server ended')\n",
    "    \n",
    "    runServer()"
   ]
  },
  {
   "cell_type": "code",
   "execution_count": 8,
   "metadata": {},
   "outputs": [
    {
     "output_type": "stream",
     "name": "stdout",
     "text": [
      " * Serving Flask app \"__main__\" (lazy loading)\n",
      " * Environment: production\n",
      "   WARNING: This is a development server. Do not use it in a production deployment.\n",
      "   Use a production WSGI server instead.\n",
      " * Debug mode: off\n",
      " * Running on http://127.0.0.1:5000/ (Press CTRL+C to quit)\n"
     ]
    }
   ],
   "source": [
    "global socket_list\n",
    "socket_list = SocketList()\n",
    "\n",
    "th1 = threading.Thread(target=rest_api_work)\n",
    "th2 = threading.Thread(target=socket_work)\n",
    "\n",
    "th1.start()\n",
    "th2.start()"
   ]
  }
 ],
 "metadata": {
  "kernelspec": {
   "display_name": "Python 3",
   "language": "python",
   "name": "python3"
  },
  "language_info": {
   "codemirror_mode": {
    "name": "ipython",
    "version": 3
   },
   "file_extension": ".py",
   "mimetype": "text/x-python",
   "name": "python",
   "nbconvert_exporter": "python",
   "pygments_lexer": "ipython3",
   "version": "3.7.3-final"
  }
 },
 "nbformat": 4,
 "nbformat_minor": 2
}