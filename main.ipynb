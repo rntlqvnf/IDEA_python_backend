{
 "cells": [
  {
   "cell_type": "code",
   "execution_count": 1,
   "metadata": {
    "tags": []
   },
   "outputs": [
    {
     "output_type": "stream",
     "name": "stderr",
     "text": [
      "Using TensorFlow backend.\n"
     ]
    }
   ],
   "source": [
    "import argparse\n",
    "from logger import logger\n",
    "from webcam_utils import realtime_emotions\n",
    "from prediction_utils import prediction_path\n",
    "from emotion_recommend import recommend_by_emotion\n",
    "import time\n",
    "\n",
    "from PIL import Image\n",
    "from PIL import ImageFont\n",
    "from PIL import ImageDraw "
   ]
  },
  {
   "cell_type": "code",
   "execution_count": 2,
   "metadata": {},
   "outputs": [],
   "source": [
    "rest_api_host = 'localhost'\n",
    "rest_api_port = 5000"
   ]
  },
  {
   "cell_type": "code",
   "execution_count": 3,
   "metadata": {
    "tags": []
   },
   "outputs": [],
   "source": [
    "from flask import Flask, request, jsonify\n",
    "import keras.backend.tensorflow_backend as tb\n",
    "\n",
    "def rest_api_work():\n",
    "    app = Flask(__name__)\n",
    "\n",
    "    @app.route('/emotion', methods = ['POST'])\n",
    "    def analysisEmotion():\n",
    "        logger.info('Emotion Request')\n",
    "        tb._SYMBOLIC_SCOPE.value = True\n",
    "        try:\n",
    "            imageData = request.get_json()['image']\n",
    "            emotion = prediction_path(imageData)\n",
    "            emotion_request_json = jsonify({'analysis_result': emotion})\n",
    "\n",
    "            logger.info('Result : ' + emotion)\n",
    "            return emotion_request_json\n",
    "        except Exception as e:\n",
    "            logger.error(e)\n",
    "\n",
    "    @app.route('/recommend', methods = ['POST'])\n",
    "    def analysisEmotionAndReturnRecommends():\n",
    "        logger.info('Recommendations Request')\n",
    "        tb._SYMBOLIC_SCOPE.value = True\n",
    "        try:\n",
    "            imageData = request.get_json()['image']\n",
    "            path = request.get_json()['path']\n",
    "            emotion = prediction_path(imageData)\n",
    "            recommended_list = recommend_by_emotion(emotion, path)\n",
    "            emotion_request_json = jsonify({\n",
    "                    'header': 'EMOTIONAL_STATE',\n",
    "                    'analysis_result':emotion,\n",
    "                    'recommended_list':recommended_list\n",
    "                    })\n",
    "\n",
    "            logger.info('Result : ' + emotion)\n",
    "            logger.info('Recommends : ' + recommended_list)\n",
    "            return emotion_request_json\n",
    "        except Exception as e:\n",
    "            logger.error(e)\n",
    "\n",
    "    @app.route('/wakeup', methods = ['GET'])\n",
    "    def wakeup():\n",
    "        logger.info('Wakeup Request')\n",
    "        try:\n",
    "            wakeup_request_json = jsonify({'status': 'open'}) \n",
    "            return wakeup_request_json\n",
    "        except Exception as e:\n",
    "            logger.error(e)\n",
    "\n",
    "    app.run(host=rest_api_host, port=rest_api_port)\n",
    "    logger.info('Server On')"
   ]
  },
  {
   "cell_type": "code",
   "execution_count": 4,
   "metadata": {},
   "outputs": [
    {
     "output_type": "stream",
     "name": "stdout",
     "text": [
      " * Serving Flask app \"__main__\" (lazy loading)\n",
      " * Environment: production\n",
      "   WARNING: This is a development server. Do not use it in a production deployment.\n",
      "   Use a production WSGI server instead.\n",
      " * Debug mode: off\n",
      " * Running on http://localhost:5000/ (Press CTRL+C to quit)\n",
      "127.0.0.1 - - [04/Mar/2021 21:29:08] \"\u001b[37mGET /wakeup HTTP/1.1\u001b[0m\" 200 -\n",
      "[2021-03-04 21:29:14,978] ERROR in app: Exception on /recommend [POST]\n",
      "Traceback (most recent call last):\n",
      "  File \"C:\\Users\\gkwogus\\Anaconda3\\lib\\site-packages\\flask\\app.py\", line 2446, in wsgi_app\n",
      "    response = self.full_dispatch_request()\n",
      "  File \"C:\\Users\\gkwogus\\Anaconda3\\lib\\site-packages\\flask\\app.py\", line 1952, in full_dispatch_request\n",
      "    return self.finalize_request(rv)\n",
      "  File \"C:\\Users\\gkwogus\\Anaconda3\\lib\\site-packages\\flask\\app.py\", line 1967, in finalize_request\n",
      "    response = self.make_response(rv)\n",
      "  File \"C:\\Users\\gkwogus\\Anaconda3\\lib\\site-packages\\flask\\app.py\", line 2097, in make_response\n",
      "    \"The view function did not return a valid response. The\"\n",
      "TypeError: The view function did not return a valid response. The function either returned None or ended without a return statement.\n",
      "127.0.0.1 - - [04/Mar/2021 21:29:14] \"\u001b[1m\u001b[35mPOST /recommend HTTP/1.1\u001b[0m\" 500 -\n"
     ]
    }
   ],
   "source": [
    "rest_api_work()"
   ]
  }
 ],
 "metadata": {
  "kernelspec": {
   "display_name": "Python 3",
   "language": "python",
   "name": "python3"
  },
  "language_info": {
   "codemirror_mode": {
    "name": "ipython",
    "version": 3
   },
   "file_extension": ".py",
   "mimetype": "text/x-python",
   "name": "python",
   "nbconvert_exporter": "python",
   "pygments_lexer": "ipython3",
   "version": "3.7.3-final"
  }
 },
 "nbformat": 4,
 "nbformat_minor": 2
}