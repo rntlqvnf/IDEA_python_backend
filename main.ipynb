{
 "cells": [
  {
   "cell_type": "code",
   "execution_count": 67,
   "metadata": {
    "tags": []
   },
   "outputs": [],
   "source": [
    "import argparse\n",
    "from webcam_utils import realtime_emotions\n",
    "from prediction_utils import prediction_path\n",
    "\n",
    "#!pip install easydict\n",
    "\n",
    "from PIL import Image\n",
    "from PIL import ImageFont\n",
    "from PIL import ImageDraw \n"
   ]
  },
  {
   "cell_type": "code",
   "execution_count": 68,
   "metadata": {},
   "outputs": [],
   "source": [
    "# for running realtime emotion detection\n",
    "import easydict\n",
    "\n",
    "def run_realtime_emotion():\n",
    "    realtime_emotions()\n",
    "\n",
    "# to run emotion detection on image saved on disk\n",
    "def run_detection_path(path):\n",
    "    return(prediction_path(path))\n",
    "\n",
    "def emotion_detection():\n",
    "    #parser = argparse.ArgumentParser()\n",
    "    #parser.add_argument(\"func_name\", type=str,\n",
    "    #                    help=\"Select a function to run. <emo_realtime> or <emo_path>\")\n",
    "    #parser.add_argument(\"--path\", default=\"saved_images/1.jpg\", type=str,\n",
    "    #                    help=\"Specify the complete path where the image is saved.\")\n",
    "    ## parse the args\n",
    "    #args = parser.parse_args()\n",
    "\n",
    "    img = Image.open(\"./image/input.jpg\")\n",
    "    #img = img.rotate(270)\n",
    "\n",
    "    img.save('input.jpg')\n",
    "    args = easydict.EasyDict({\"func_name\": \"emo_path\", \"path\":\"input.jpg\"}) #path를 바꿔주면 된다\n",
    "    \n",
    "    #img = Image.open(\"C:/Users/jinseong/data/input.jpg\")\n",
    "    \n",
    "    draw = ImageDraw.Draw(img)\n",
    "    _font = ImageFont.truetype(\"arial.ttf\", int(img.size[0]/15))\n",
    "    \n",
    "    if args.func_name == \"emo_realtime\":\n",
    "        result=run_realtime_emotion()\n",
    "    elif args.func_name == \"emo_path\":\n",
    "        result=run_detection_path(args.path)\n",
    "    else:\n",
    "        print(\"Usage: python main.py <function name>\")\n",
    "    \n",
    "    return result\n",
    "    "
   ]
  },
  {
   "cell_type": "code",
   "execution_count": 20,
   "metadata": {},
   "outputs": [
    {
     "output_type": "execute_result",
     "data": {
      "text/plain": [
       "(261, 193)"
      ]
     },
     "metadata": {},
     "execution_count": 20
    }
   ],
   "source": [
    "img = Image.open(\"input.jpg\")\n",
    "img.size"
   ]
  },
  {
   "cell_type": "code",
   "execution_count": 16,
   "metadata": {},
   "outputs": [
    {
     "output_type": "error",
     "ename": "FileNotFoundError",
     "evalue": "[Errno 2] No such file or directory: 'output.jpg'",
     "traceback": [
      "\u001b[1;31m---------------------------------------------------------------------------\u001b[0m",
      "\u001b[1;31mFileNotFoundError\u001b[0m                         Traceback (most recent call last)",
      "\u001b[1;32m<ipython-input-16-4757a1cbc6c5>\u001b[0m in \u001b[0;36m<module>\u001b[1;34m\u001b[0m\n\u001b[1;32m----> 1\u001b[1;33m \u001b[0mimg\u001b[0m \u001b[1;33m=\u001b[0m \u001b[0mImage\u001b[0m\u001b[1;33m.\u001b[0m\u001b[0mopen\u001b[0m\u001b[1;33m(\u001b[0m\u001b[1;34m\"output.jpg\"\u001b[0m\u001b[1;33m)\u001b[0m\u001b[1;33m\u001b[0m\u001b[1;33m\u001b[0m\u001b[0m\n\u001b[0m",
      "\u001b[1;32m~\\Anaconda3\\lib\\site-packages\\PIL\\Image.py\u001b[0m in \u001b[0;36mopen\u001b[1;34m(fp, mode)\u001b[0m\n\u001b[0;32m   2768\u001b[0m \u001b[1;33m\u001b[0m\u001b[0m\n\u001b[0;32m   2769\u001b[0m     \u001b[1;32mif\u001b[0m \u001b[0mfilename\u001b[0m\u001b[1;33m:\u001b[0m\u001b[1;33m\u001b[0m\u001b[1;33m\u001b[0m\u001b[0m\n\u001b[1;32m-> 2770\u001b[1;33m         \u001b[0mfp\u001b[0m \u001b[1;33m=\u001b[0m \u001b[0mbuiltins\u001b[0m\u001b[1;33m.\u001b[0m\u001b[0mopen\u001b[0m\u001b[1;33m(\u001b[0m\u001b[0mfilename\u001b[0m\u001b[1;33m,\u001b[0m \u001b[1;34m\"rb\"\u001b[0m\u001b[1;33m)\u001b[0m\u001b[1;33m\u001b[0m\u001b[1;33m\u001b[0m\u001b[0m\n\u001b[0m\u001b[0;32m   2771\u001b[0m         \u001b[0mexclusive_fp\u001b[0m \u001b[1;33m=\u001b[0m \u001b[1;32mTrue\u001b[0m\u001b[1;33m\u001b[0m\u001b[1;33m\u001b[0m\u001b[0m\n\u001b[0;32m   2772\u001b[0m \u001b[1;33m\u001b[0m\u001b[0m\n",
      "\u001b[1;31mFileNotFoundError\u001b[0m: [Errno 2] No such file or directory: 'output.jpg'"
     ]
    }
   ],
   "source": [
    "img = Image.open(\"output.jpg\")"
   ]
  },
  {
   "cell_type": "code",
   "execution_count": 69,
   "metadata": {},
   "outputs": [],
   "source": [
    "import socketserver\n",
    "import socket\n",
    "import time\n",
    "\n",
    "\n",
    "HOST = '211.57.9.212'\n",
    "PORT = 9000"
   ]
  },
  {
   "cell_type": "code",
   "execution_count": 70,
   "metadata": {},
   "outputs": [],
   "source": [
    "#https://lidron.tistory.com/42\n",
    "class MyTcpHandler(socketserver.BaseRequestHandler):\n",
    "    def handle(self):\n",
    "        sock = self.request\n",
    "        data_transferred = 0\n",
    "        print('[%s] 연결됨' %self.client_address[0])\n",
    "\n",
    "## 파일받아서 서버에 저장한다. (https://brownbears.tistory.com/207)\n",
    "\n",
    "        IN_filename = 'input.jpg'# 클라이언트로 부터 파일이름을 이진 바이트 스트림 데이터를 일반 문자열로 변환을 전달받음\n",
    " \n",
    "        data = sock.recv(1024)\n",
    "        print ('first stack loaded')\n",
    "        if not data:\n",
    "            print('파일[%s]: 서버에 존재하지 않거나 전송중 오류발생' %IN_filename)\n",
    "            return\n",
    " \n",
    "        with open(\"./image/\" + IN_filename , 'wb') as f:\n",
    "            try:\n",
    "                f.write(data)\n",
    "                data_transferred += len(data)\n",
    "                while  data:\n",
    "                    data = sock.recv(1024)\n",
    "                    f.write(data)\n",
    "                    data_transferred += len(data)\n",
    "                    #print (data_transferred, )\n",
    "                    time.sleep(0.01)\n",
    "            except Exception as e:\n",
    "                print(e)\n",
    " \n",
    "        print('파일[%s] 전송종료. 전송량 [%d]' %(IN_filename, data_transferred))\n",
    "        \n",
    "        result = emotion_detection()\n",
    "        sock.sendall(result.encode('utf-8'))\n",
    "        \n",
    "        sock.close()\n",
    "        print('소켓 닫습니다')\n",
    "        return"
   ]
  },
  {
   "cell_type": "code",
   "execution_count": 74,
   "metadata": {
    "tags": []
   },
   "outputs": [
    {
     "output_type": "stream",
     "name": "stdout",
     "text": [
      "211.57.9.212:9000 소켓 서버 시작\n",
      "++++++파일 서버를 시작++++++\n",
      "+++파일 서버를 끝내려면 'Ctrl + C'를 누르세요.\n",
      "[211.57.9.212] 연결됨\n",
      "first stack loaded\n"
     ]
    }
   ],
   "source": [
    "def runServer():\n",
    "    print(HOST+':'+str(PORT)+' 소켓 서버 시작')\n",
    "    print('++++++파일 서버를 시작++++++')\n",
    "    print(\"+++파일 서버를 끝내려면 'Ctrl + C'를 누르세요.\")\n",
    " \n",
    "    try:\n",
    "        server = socketserver.TCPServer((HOST,PORT),MyTcpHandler)\n",
    "        server.serve_forever()\n",
    "    except KeyboardInterrupt:\n",
    "        print('++++++파일 서버를 종료합니다.++++++')\n",
    " \n",
    " \n",
    "runServer()\n",
    "print('++++++파일 서버를 종료합니다.++++++')"
   ]
  },
  {
   "cell_type": "code",
   "execution_count": null,
   "metadata": {},
   "outputs": [],
   "source": []
  }
 ],
 "metadata": {
  "kernelspec": {
   "display_name": "Python 3",
   "language": "python",
   "name": "python3"
  },
  "language_info": {
   "codemirror_mode": {
    "name": "ipython",
    "version": 3
   },
   "file_extension": ".py",
   "mimetype": "text/x-python",
   "name": "python",
   "nbconvert_exporter": "python",
   "pygments_lexer": "ipython3",
   "version": "3.7.3-final"
  }
 },
 "nbformat": 4,
 "nbformat_minor": 2
}