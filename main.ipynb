{
 "cells": [
  {
   "cell_type": "code",
   "execution_count": null,
   "metadata": {
    "tags": []
   },
   "outputs": [],
   "source": [
    "import argparse\n",
    "from webcam_utils import realtime_emotions\n",
    "from prediction_utils import prediction_path\n",
    "\n",
    "from PIL import Image\n",
    "from PIL import ImageFont\n",
    "from PIL import ImageDraw \n"
   ]
  },
  {
   "cell_type": "code",
   "execution_count": 5,
   "metadata": {},
   "outputs": [],
   "source": [
    "# for running realtime emotion detection\n",
    "import easydict\n",
    "\n",
    "def emotion_detection(img_str):\n",
    "    return prediction_path(img_str)\n",
    "    "
   ]
  },
  {
   "cell_type": "code",
   "execution_count": 6,
   "metadata": {
    "tags": []
   },
   "outputs": [
    {
     "output_type": "stream",
     "name": "stdout",
     "text": [
      " * Serving Flask app \"__main__\" (lazy loading)\n",
      " * Environment: production\n",
      "   WARNING: This is a development server. Do not use it in a production deployment.\n",
      "   Use a production WSGI server instead.\n",
      " * Debug mode: off\n",
      " * Running on http://localhost:5000/ (Press CTRL+C to quit)\n",
      "[2020-11-23 01:19:04,787] ERROR in app: Exception on /emotion [POST]\n",
      "Traceback (most recent call last):\n",
      "  File \"C:\\Users\\gkwogus\\Anaconda3\\lib\\site-packages\\flask\\app.py\", line 2446, in wsgi_app\n",
      "    response = self.full_dispatch_request()\n",
      "  File \"C:\\Users\\gkwogus\\Anaconda3\\lib\\site-packages\\flask\\app.py\", line 1951, in full_dispatch_request\n",
      "    rv = self.handle_user_exception(e)\n",
      "  File \"C:\\Users\\gkwogus\\Anaconda3\\lib\\site-packages\\flask\\app.py\", line 1820, in handle_user_exception\n",
      "    reraise(exc_type, exc_value, tb)\n",
      "  File \"C:\\Users\\gkwogus\\Anaconda3\\lib\\site-packages\\flask\\_compat.py\", line 39, in reraise\n",
      "    raise value\n",
      "  File \"C:\\Users\\gkwogus\\Anaconda3\\lib\\site-packages\\flask\\app.py\", line 1949, in full_dispatch_request\n",
      "    rv = self.dispatch_request()\n",
      "  File \"C:\\Users\\gkwogus\\Anaconda3\\lib\\site-packages\\flask\\app.py\", line 1935, in dispatch_request\n",
      "    return self.view_functions[rule.endpoint](**req.view_args)\n",
      "  File \"<ipython-input-6-d7a5c39586d2>\", line 9, in analysisEmotiom\n",
      "    return jsonify({'result': emotion_detection(imageData)})\n",
      "  File \"<ipython-input-5-96a838576367>\", line 5, in emotion_detection\n",
      "    return prediction_path(img_str)\n",
      "  File \"d:\\github\\IDEA\\model\\prediction_utils.py\", line 19, in prediction_path\n",
      "cv2.error: OpenCV(4.4.0) C:\\Users\\appveyor\\AppData\\Local\\Temp\\1\\pip-req-build-2b5g8ysb\\opencv\\modules\\highgui\\src\\window.cpp:376: error: (-215:Assertion failed) size.width>0 && size.height>0 in function 'cv::imshow'\n",
      "\n",
      "127.0.0.1 - - [23/Nov/2020 01:19:04] \"\u001b[1m\u001b[35mPOST /emotion HTTP/1.1\u001b[0m\" 500 -\n",
      "No model to load !\n",
      "[2020-11-23 01:19:17,783] ERROR in app: Exception on /emotion [POST]\n",
      "Traceback (most recent call last):\n",
      "  File \"C:\\Users\\gkwogus\\Anaconda3\\lib\\site-packages\\flask\\app.py\", line 2446, in wsgi_app\n",
      "    response = self.full_dispatch_request()\n",
      "  File \"C:\\Users\\gkwogus\\Anaconda3\\lib\\site-packages\\flask\\app.py\", line 1951, in full_dispatch_request\n",
      "    rv = self.handle_user_exception(e)\n",
      "  File \"C:\\Users\\gkwogus\\Anaconda3\\lib\\site-packages\\flask\\app.py\", line 1820, in handle_user_exception\n",
      "    reraise(exc_type, exc_value, tb)\n",
      "  File \"C:\\Users\\gkwogus\\Anaconda3\\lib\\site-packages\\flask\\_compat.py\", line 39, in reraise\n",
      "    raise value\n",
      "  File \"C:\\Users\\gkwogus\\Anaconda3\\lib\\site-packages\\flask\\app.py\", line 1949, in full_dispatch_request\n",
      "    rv = self.dispatch_request()\n",
      "  File \"C:\\Users\\gkwogus\\Anaconda3\\lib\\site-packages\\flask\\app.py\", line 1935, in dispatch_request\n",
      "    return self.view_functions[rule.endpoint](**req.view_args)\n",
      "  File \"<ipython-input-6-d7a5c39586d2>\", line 9, in analysisEmotiom\n",
      "    return jsonify({'result': emotion_detection(imageData)})\n",
      "  File \"<ipython-input-5-96a838576367>\", line 5, in emotion_detection\n",
      "    return prediction_path(img_str)\n",
      "  File \"d:\\github\\IDEA\\model\\prediction_utils.py\", line 22, in prediction_path\n",
      "    # do prediction\n",
      "  File \"C:\\Users\\gkwogus\\Anaconda3\\lib\\site-packages\\numpy\\core\\fromnumeric.py\", line 292, in reshape\n",
      "    return _wrapfunc(a, 'reshape', newshape, order=order)\n",
      "  File \"C:\\Users\\gkwogus\\Anaconda3\\lib\\site-packages\\numpy\\core\\fromnumeric.py\", line 56, in _wrapfunc\n",
      "    return getattr(obj, method)(*args, **kwds)\n",
      "ValueError: cannot reshape array of size 6912 into shape (1,48,48,1)\n",
      "127.0.0.1 - - [23/Nov/2020 01:19:17] \"\u001b[1m\u001b[35mPOST /emotion HTTP/1.1\u001b[0m\" 500 -\n",
      "No model to load !\n"
     ]
    }
   ],
   "source": [
    "from flask import Flask, request, jsonify\n",
    "app = Flask(__name__)\n",
    "host = 'localhost'\n",
    "port = 5000\n",
    "\n",
    "@app.route('/emotion', methods = ['POST'])\n",
    "def analysisEmotiom():\n",
    "    imageData = request.get_json()['image']\n",
    "    return jsonify({'result': emotion_detection(imageData)})\n",
    "\n",
    "@app.route('/recommendations', methods = ['POST'])\n",
    "def analysisEmotionAndReturnRecommends():\n",
    "    imageData = request.get_json()['image']\n",
    "    return jsonify({'result': 'test'})\n",
    "\n",
    "@app.route('/wakeup', methods = ['GET'])\n",
    "def wakeup():\n",
    "    return jsonify({'status': 'open'}) \n",
    "\n",
    "app.run(host=host, port=port)"
   ]
  },
  {
   "cell_type": "code",
   "execution_count": null,
   "metadata": {},
   "outputs": [],
   "source": []
  }
 ],
 "metadata": {
  "kernelspec": {
   "display_name": "Python 3",
   "language": "python",
   "name": "python3"
  },
  "language_info": {
   "codemirror_mode": {
    "name": "ipython",
    "version": 3
   },
   "file_extension": ".py",
   "mimetype": "text/x-python",
   "name": "python",
   "nbconvert_exporter": "python",
   "pygments_lexer": "ipython3",
   "version": "3.7.3-final"
  }
 },
 "nbformat": 4,
 "nbformat_minor": 2
}